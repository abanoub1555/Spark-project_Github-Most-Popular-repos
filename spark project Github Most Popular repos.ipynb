{
 "cells": [
  {
   "cell_type": "code",
   "execution_count": 33,
   "metadata": {},
   "outputs": [],
   "source": [
    "#creating spark session and importing libraries\n",
    "import findspark\n",
    "findspark.init(\"/opt/spark\")  \n",
    "from pyspark.sql import SparkSession\n",
    "from pyspark.sql.functions import *\n",
    "import pyspark.sql.functions as fn\n",
    "import os\n",
    "from dotenv import load_dotenv\n",
    "\n",
    "\n",
    "spark = SparkSession.builder \\\n",
    "    .appName(\"MySQL Integration\") \\\n",
    "    .config(\"spark.jars\", \"/home/abanoub/Downloads/mysql-connector-j-8.0.33.jar\") \\\n",
    "    .config(\"spark.driver.extraClassPath\", \"/home/abanoub/Downloads/mysql-connector-j-8.0.33.jar\") \\\n",
    "    .config(\"spark.executor.extraClassPath\", \"/home/abanoub/Downloads/mysql-connector-j-8.0.33.jar\") \\\n",
    "    .getOrCreate()\n",
    "\n"
   ]
  },
  {
   "cell_type": "code",
   "execution_count": 34,
   "metadata": {},
   "outputs": [],
   "source": [
    "#reading all files from the archive \n",
    "df_total=spark.read.json('/home/abanoub/Downloads/archive/*.json')"
   ]
  },
  {
   "cell_type": "code",
   "execution_count": 35,
   "metadata": {},
   "outputs": [
    {
     "name": "stdout",
     "output_type": "stream",
     "text": [
      "+-------------------+--------------------+-----+--------------------+---------+----------------+-----------+--------------------+-----+-----------+--------------------+------------+-------------------+\n",
      "|            created|         description|forks|           full_name|       id|        language|open_issues|           repo_name|stars|subscribers|              topics|        type|           username|\n",
      "+-------------------+--------------------+-----+--------------------+---------+----------------+-----------+--------------------+-----+-----------+--------------------+------------+-------------------+\n",
      "|2014-02-25 08:00:08|Apache Spark - A ...|25357|        apache/spark| 17165658|           Scala|        242|               spark|32296|       2080|[python, scala, r...|Organization|             apache|\n",
      "|2017-08-09 19:39:59|Distributed train...| 2027|     horovod/horovod| 99846383|          Python|        298|             horovod|12219|        334|[tensorflow, uber...|Organization|            horovod|\n",
      "|2014-08-08 07:30:51|Notes talking abo...| 1773|JerryLead/SparkIn...| 22749672|            NULL|         27|      SparkInternals| 4774|        619|                  []|        User|          JerryLead|\n",
      "|2019-04-22 18:56:51|An open-source st...|  985|      delta-io/delta|182849188|           Scala|        180|               delta| 4164|        188|[spark, acid, big...|Organization|           delta-io|\n",
      "|2017-01-20 18:15:57|TensorFlowOnSpark...|  966|yahoo/TensorFlowO...| 79584587|          Python|          6|   TensorFlowOnSpark| 3768|        286|[tensorflow, spar...|Organization|              yahoo|\n",
      "|2019-01-03 21:46:54|Koalas: pandas AP...|  333|   databricks/koalas|164026325|          Python|        103|              koalas| 3095|        222|[spark, pandas, p...|Organization|         databricks|\n",
      "|2014-08-21 23:07:47|REST job server f...| 1003|spark-jobserver/s...| 23205911|           Scala|        106|     spark-jobserver| 2767|        219|[spark, rest-api,...|Organization|    spark-jobserver|\n",
      "|2017-05-05 02:27:30|Distributed Tenso...|  714|intel-analytics/a...| 90328920|Jupyter Notebook|        560|       analytics-zoo| 2483|        102|[apache-spark, de...|Organization|    intel-analytics|\n",
      "|2019-07-04 17:09:41|Distributed compu...|  148|ballista-compute/...|195277793|            Rust|          0|            ballista| 2285|         71|[rust, arrow, dat...|Organization|   ballista-compute|\n",
      "|2018-08-07 20:55:14|Deequ is a librar...|  389|       awslabs/deequ|143925946|           Scala|        103|               deequ| 2158|         70|[dataquality, spa...|Organization|            awslabs|\n",
      "|2017-11-02 16:15:15|TransmogrifAI (pr...|  374|salesforce/Transm...|109289451|           Scala|         44|       TransmogrifAI| 2101|        146|[ml, automl, tran...|Organization|         salesforce|\n",
      "|2019-10-22 19:13:09|A new arguably fa...|  179|     rajasekarv/vega|216890889|            Rust|         34|                vega| 2028|        116|                  []|        User|         rajasekarv|\n",
      "|2017-05-31 17:30:28|Deep Learning Pip...|  494|databricks/spark-...| 92971378|          Python|         85| spark-deep-learning| 1912|        151|                  []|Organization|         databricks|\n",
      "|2018-01-03 17:43:16|Kubernetes operat...|  921|GoogleCloudPlatfo...|116165188|              Go|        327|spark-on-k8s-oper...| 1895|         82|[kubernetes, kube...|Organization|GoogleCloudPlatform|\n",
      "|2014-07-25 20:08:44|Oryx 2: Lambda ar...|  412|    OryxProject/oryx| 22269384|            Java|          1|                oryx| 1796|        214|[lambda-architect...|Organization|        OryxProject|\n",
      "|2019-04-22 18:55:55|.NET for Apache® ...|  270|        dotnet/spark|182849051|              C#|        140|               spark| 1746|         82|[spark, csharp, d...|Organization|             dotnet|\n",
      "|2015-10-08 12:19:32|Apache Spark dock...|  593|big-data-europe/d...| 43886361|           Shell|         38|        docker-spark| 1706|         99|[spark-kubernetes...|Organization|    big-data-europe|\n",
      "|2015-08-22 13:52:08|Elassandra = Elas...|  204|strapdata/elassandra| 41209174|            Java|         40|          elassandra| 1624|         87|[cassandra, elast...|Organization|          strapdata|\n",
      "|2015-05-06 07:45:21|Apache Spark & Py...|  893|jadianes/spark-py...| 35145949|Jupyter Notebook|          9|  spark-py-notebooks| 1439|         99|[spark, python, p...|        User|           jadianes|\n",
      "|2016-06-28 07:00:06|High performance ...|  697|   apache/carbondata| 62117818|           Scala|        138|          carbondata| 1309|        129|[scala, java, big...|Organization|             apache|\n",
      "+-------------------+--------------------+-----+--------------------+---------+----------------+-----------+--------------------+-----+-----------+--------------------+------------+-------------------+\n",
      "only showing top 20 rows\n",
      "\n"
     ]
    }
   ],
   "source": [
    "#testing the reading \n",
    "df_total.show()"
   ]
  },
  {
   "cell_type": "code",
   "execution_count": 36,
   "metadata": {},
   "outputs": [
    {
     "name": "stdout",
     "output_type": "stream",
     "text": [
      "+-----------------+\n",
      "|         language|\n",
      "+-----------------+\n",
      "|               C#|\n",
      "|            Terra|\n",
      "|             Hack|\n",
      "|         Makefile|\n",
      "|              VBA|\n",
      "|             Cuda|\n",
      "|         Markdown|\n",
      "|              Arc|\n",
      "|             LLVM|\n",
      "|            Metal|\n",
      "|             Haxe|\n",
      "|             Rust|\n",
      "|       JavaScript|\n",
      "|       Emacs Lisp|\n",
      "|             TSQL|\n",
      "|             Perl|\n",
      "|           Puppet|\n",
      "|           Erlang|\n",
      "|          Crystal|\n",
      "|            Jinja|\n",
      "|              Nim|\n",
      "|              C++|\n",
      "|               F#|\n",
      "|           Groovy|\n",
      "|              TeX|\n",
      "|            OCaml|\n",
      "|             Dart|\n",
      "|             MQL5|\n",
      "|            Cirru|\n",
      "|              Elm|\n",
      "|              Vue|\n",
      "|              Coq|\n",
      "|       Dockerfile|\n",
      "|     ActionScript|\n",
      "|            Julia|\n",
      "| Jupyter Notebook|\n",
      "|             XSLT|\n",
      "|       Vim script|\n",
      "|    Objective-C++|\n",
      "|                C|\n",
      "|      Objective-C|\n",
      "|          Verilog|\n",
      "|       ApacheConf|\n",
      "|            Frege|\n",
      "|            Swift|\n",
      "|       TypeScript|\n",
      "|             NASL|\n",
      "|              CSS|\n",
      "|            CMake|\n",
      "|              Lex|\n",
      "|           Elixir|\n",
      "|              HCL|\n",
      "|              Nix|\n",
      "|          Haskell|\n",
      "|        Batchfile|\n",
      "|          Jsonnet|\n",
      "|             HTML|\n",
      "|         PigLatin|\n",
      "|         Solidity|\n",
      "|       PowerShell|\n",
      "|                R|\n",
      "|Visual Basic .NET|\n",
      "|            Scala|\n",
      "|          Nearley|\n",
      "|        SaltStack|\n",
      "|          Clojure|\n",
      "|           Reason|\n",
      "|              PHP|\n",
      "|           Kotlin|\n",
      "|             Roff|\n",
      "|           Racket|\n",
      "|               Go|\n",
      "|      WebAssembly|\n",
      "|              Lua|\n",
      "|             Ruby|\n",
      "|           Python|\n",
      "|     CoffeeScript|\n",
      "|          PLpgSQL|\n",
      "|Open Policy Agent|\n",
      "|         Assembly|\n",
      "|           Pascal|\n",
      "|             Java|\n",
      "|            Shell|\n",
      "|   RobotFramework|\n",
      "|             Less|\n",
      "| Rich Text Format|\n",
      "|         Starlark|\n",
      "|              SMT|\n",
      "|         ReScript|\n",
      "|             SCSS|\n",
      "|         AsciiDoc|\n",
      "|           Smarty|\n",
      "|             Riot|\n",
      "|           Matlab|\n",
      "|              QML|\n",
      "|       Inno Setup|\n",
      "|           Svelte|\n",
      "|           MATLAB|\n",
      "|             VimL|\n",
      "|             YARA|\n",
      "|           Nimrod|\n",
      "|              Red|\n",
      "|          BitBake|\n",
      "|              EJS|\n",
      "|            Bicep|\n",
      "|        PureBasic|\n",
      "|         Nunjucks|\n",
      "|             GLSL|\n",
      "|      Mathematica|\n",
      "|       AGS Script|\n",
      "|            Astro|\n",
      "|             HaXe|\n",
      "|            Smali|\n",
      "|         Mustache|\n",
      "|     OpenEdge ABL|\n",
      "|             Twig|\n",
      "|            Dhall|\n",
      "|       PostScript|\n",
      "|              ASP|\n",
      "|           Cython|\n",
      "|            Logos|\n",
      "|               F*|\n",
      "|       Processing|\n",
      "|    SystemVerilog|\n",
      "|             Sass|\n",
      "|      AppleScript|\n",
      "|             SWIG|\n",
      "|      Common Lisp|\n",
      "|              Pug|\n",
      "|            Stata|\n",
      "|       PureScript|\n",
      "|             Pony|\n",
      "|              Max|\n",
      "|           Stylus|\n",
      "|            Forth|\n",
      "|             NULL|\n",
      "+-----------------+\n",
      "\n"
     ]
    }
   ],
   "source": [
    "df_total.select('language').distinct().show(136)"
   ]
  },
  {
   "cell_type": "code",
   "execution_count": 37,
   "metadata": {},
   "outputs": [],
   "source": [
    "#creating view for first requistion (programming_lang) \n",
    "df_total.createOrReplaceTempView('lang')\n",
    "programming_lang=spark.sql('Select language ,count(*) as number_of_repos From lang GROUP BY language')\n"
   ]
  },
  {
   "cell_type": "code",
   "execution_count": 38,
   "metadata": {},
   "outputs": [
    {
     "name": "stdout",
     "output_type": "stream",
     "text": [
      "+----------+---------------+\n",
      "|  language|number_of_repos|\n",
      "+----------+---------------+\n",
      "|        C#|            336|\n",
      "|     Terra|              1|\n",
      "|      Hack|              1|\n",
      "|  Makefile|             36|\n",
      "|       VBA|              3|\n",
      "|      Cuda|             12|\n",
      "|  Markdown|              3|\n",
      "|       Arc|              1|\n",
      "|      LLVM|              2|\n",
      "|     Metal|              1|\n",
      "|      Haxe|              4|\n",
      "|      Rust|            165|\n",
      "|JavaScript|           5293|\n",
      "|Emacs Lisp|             18|\n",
      "|      TSQL|              9|\n",
      "|      Perl|             14|\n",
      "|    Puppet|              4|\n",
      "|    Erlang|              6|\n",
      "|      NULL|           1424|\n",
      "|   Crystal|              2|\n",
      "+----------+---------------+\n",
      "only showing top 20 rows\n",
      "\n",
      "root\n",
      " |-- language: string (nullable = true)\n",
      " |-- number_of_repos: long (nullable = false)\n",
      "\n"
     ]
    }
   ],
   "source": [
    "#test 1st df \n",
    "programming_lang.show()\n",
    "programming_lang.printSchema()"
   ]
  },
  {
   "cell_type": "code",
   "execution_count": 39,
   "metadata": {},
   "outputs": [
    {
     "name": "stdout",
     "output_type": "stream",
     "text": [
      "+-----------------+-----+\n",
      "|         username|stars|\n",
      "+-----------------+-----+\n",
      "|facebookincubator|  375|\n",
      "|facebookincubator| 9305|\n",
      "|facebookincubator|  998|\n",
      "|facebookincubator| 9304|\n",
      "+-----------------+-----+\n",
      "\n"
     ]
    }
   ],
   "source": [
    "#test2 for 1st df \n",
    "org=spark.sql('Select username ,stars From lang WHERE username==\"facebookincubator\"').show(n=10000)"
   ]
  },
  {
   "cell_type": "code",
   "execution_count": 40,
   "metadata": {},
   "outputs": [],
   "source": [
    "load_dotenv()\n",
    "db_password = os.getenv(\"mysql_pass\")"
   ]
  },
  {
   "cell_type": "code",
   "execution_count": 41,
   "metadata": {},
   "outputs": [],
   "source": [
    "# writing 1st df into mysql db \n",
    "programming_lang.write \\\n",
    "        .format(\"jdbc\") \\\n",
    "        .option(\"url\", \"jdbc:mysql://localhost:3306/Github_repos\") \\\n",
    "        .option(\"dbtable\", \"programming_lang_database\") \\\n",
    "        .option(\"user\", \"root\") \\\n",
    "        .option(\"password\", db_password) \\\n",
    "        .option(\"driver\", \"com.mysql.cj.jdbc.Driver\") \\\n",
    "        .mode(\"append\") \\\n",
    "        .save()\n"
   ]
  },
  {
   "cell_type": "code",
   "execution_count": 46,
   "metadata": {},
   "outputs": [],
   "source": [
    "#creating 2nd df \n",
    "organizations_stars=spark.sql('Select username ,sum(stars) as total_number_of_stars From lang GROUP BY username')"
   ]
  },
  {
   "cell_type": "code",
   "execution_count": null,
   "metadata": {},
   "outputs": [],
   "source": [
    "#test for 2nd df \n",
    "organizations_stars.show()"
   ]
  },
  {
   "cell_type": "code",
   "execution_count": 48,
   "metadata": {},
   "outputs": [
    {
     "name": "stdout",
     "output_type": "stream",
     "text": [
      "DataFrame[username: string, total_number_of_stars: bigint]\n"
     ]
    }
   ],
   "source": [
    "print(organizations_stars)"
   ]
  },
  {
   "cell_type": "code",
   "execution_count": 49,
   "metadata": {},
   "outputs": [
    {
     "name": "stderr",
     "output_type": "stream",
     "text": [
      "                                                                                \r"
     ]
    }
   ],
   "source": [
    "#writing 2nd requistion into mysql db \n",
    "organizations_stars.write \\\n",
    "        .format(\"jdbc\") \\\n",
    "        .option(\"url\", \"jdbc:mysql://localhost:3306/Github_repos\") \\\n",
    "        .option(\"dbtable\", \"organizations_stars_database\") \\\n",
    "        .option(\"user\", \"root\") \\\n",
    "        .option(\"password\",db_password) \\\n",
    "        .option(\"driver\", \"com.mysql.cj.jdbc.Driver\") \\\n",
    "        .mode(\"append\") \\\n",
    "        .save()\n"
   ]
  },
  {
   "cell_type": "code",
   "execution_count": 50,
   "metadata": {},
   "outputs": [
    {
     "name": "stdout",
     "output_type": "stream",
     "text": [
      "['/home/abanoub/Downloads/archive/Angular.json', '/home/abanoub/Downloads/archive/Django.json', '/home/abanoub/Downloads/archive/Docker.json', '/home/abanoub/Downloads/archive/Gatsby.json', '/home/abanoub/Downloads/archive/React-Native.json', '/home/abanoub/Downloads/archive/Tensorflow.json', '/home/abanoub/Downloads/archive/Cpp.json', '/home/abanoub/Downloads/archive/Scala.json', '/home/abanoub/Downloads/archive/Machine-Learning.json', '/home/abanoub/Downloads/archive/Kubernetes.json', '/home/abanoub/Downloads/archive/ethereum.json', '/home/abanoub/Downloads/archive/PyTorch.json', '/home/abanoub/Downloads/archive/serverless.json', '/home/abanoub/Downloads/archive/Scikit.json', '/home/abanoub/Downloads/archive/NextJS.json', '/home/abanoub/Downloads/archive/Deep-Learning.json', '/home/abanoub/Downloads/archive/Kotlin.json', '/home/abanoub/Downloads/archive/React-JS.json', '/home/abanoub/Downloads/archive/Julia.json', '/home/abanoub/Downloads/archive/NodeJS.json', '/home/abanoub/Downloads/archive/Golang.json', '/home/abanoub/Downloads/archive/Threejs.json', '/home/abanoub/Downloads/archive/R.json', '/home/abanoub/Downloads/archive/Typescript.json', '/home/abanoub/Downloads/archive/Dart.json', '/home/abanoub/Downloads/archive/Flask.json', '/home/abanoub/Downloads/archive/Spark.json', '/home/abanoub/Downloads/archive/OOPs.json', '/home/abanoub/Downloads/archive/Hadoop.json']\n"
     ]
    }
   ],
   "source": [
    "#getting all directories for the json files \n",
    "import os \n",
    "main_directory='/home/abanoub/Downloads/archive'\n",
    "files=os.listdir(main_directory)\n",
    "list_of_directories=[]\n",
    "for file in files:\n",
    "    directory_of_file=os.path.join(main_directory, file)\n",
    "    list_of_directories.append(directory_of_file)\n",
    "\n",
    "print(list_of_directories)"
   ]
  },
  {
   "cell_type": "code",
   "execution_count": 51,
   "metadata": {},
   "outputs": [
    {
     "name": "stdout",
     "output_type": "stream",
     "text": [
      "['Angular', 'Django', 'Docker', 'Gatsby', 'React-Native', 'Tensorflow', 'Cpp', 'Scala', 'Machine-Learning', 'Kubernetes', 'ethereum', 'PyTorch', 'serverless', 'Scikit', 'NextJS', 'Deep-Learning', 'Kotlin', 'React-JS', 'Julia', 'NodeJS', 'Golang', 'Threejs', 'R', 'Typescript', 'Dart', 'Flask', 'Spark', 'OOPs', 'Hadoop']\n"
     ]
    }
   ],
   "source": [
    "# getting names for json files \n",
    "df_names = [os.path.splitext(file)[0] for file in files]\n",
    "print(df_names)"
   ]
  },
  {
   "cell_type": "code",
   "execution_count": 52,
   "metadata": {},
   "outputs": [],
   "source": [
    "#creation for dfs for every file\n",
    "df_total_search=[]\n",
    "for i, directory in enumerate(list_of_directories):\n",
    "    search_term=df_names[i]\n",
    "    df=spark.read.json(directory)\n",
    "    df.createOrReplaceTempView('view_for_df')\n",
    "    relevance_score= spark.sql(f'SELECT \"{search_term}\" as search_term, sum(forks)*1.5 + sum(subscribers)*1.32 + sum(stars)*1.04 as relevance_score FROM view_for_df')\n",
    "    df_total_search.append(relevance_score)"
   ]
  },
  {
   "cell_type": "code",
   "execution_count": 53,
   "metadata": {},
   "outputs": [
    {
     "name": "stdout",
     "output_type": "stream",
     "text": [
      "+-----------+---------------+\n",
      "|search_term|relevance_score|\n",
      "+-----------+---------------+\n",
      "|    Angular|     2888727.66|\n",
      "+-----------+---------------+\n",
      "\n"
     ]
    }
   ],
   "source": [
    "df_total_search[0].show()"
   ]
  },
  {
   "cell_type": "code",
   "execution_count": 54,
   "metadata": {},
   "outputs": [
    {
     "name": "stdout",
     "output_type": "stream",
     "text": [
      "+----------------+---------------+\n",
      "|     search_term|relevance_score|\n",
      "+----------------+---------------+\n",
      "|         Angular|     2888727.66|\n",
      "|          Django|     1488257.16|\n",
      "|          Docker|     4403817.56|\n",
      "|          Gatsby|      361724.48|\n",
      "|    React-Native|     3097924.46|\n",
      "|      Tensorflow|     3918987.26|\n",
      "|             Cpp|     4377811.44|\n",
      "|           Scala|     1287463.68|\n",
      "|Machine-Learning|     6925617.80|\n",
      "|      Kubernetes|     3540183.02|\n",
      "|        ethereum|     1157287.26|\n",
      "|         PyTorch|     3357329.08|\n",
      "|      serverless|     1312038.98|\n",
      "|          Scikit|      897061.24|\n",
      "|          NextJS|      631042.74|\n",
      "|   Deep-Learning|     6560501.06|\n",
      "|          Kotlin|     1936763.90|\n",
      "|        React-JS|      870068.36|\n",
      "|           Julia|      384773.28|\n",
      "|          NodeJS|     4331014.68|\n",
      "|          Golang|     5407407.26|\n",
      "|         Threejs|      360260.50|\n",
      "|               R|    11876338.24|\n",
      "|      Typescript|     4909697.76|\n",
      "|            Dart|     1028218.32|\n",
      "|           Flask|      884822.12|\n",
      "|           Spark|      295286.16|\n",
      "|            OOPs|       23416.26|\n",
      "|          Hadoop|      584015.90|\n",
      "+----------------+---------------+\n",
      "\n"
     ]
    },
    {
     "name": "stderr",
     "output_type": "stream",
     "text": [
      "                                                                                \r"
     ]
    }
   ],
   "source": [
    "#merging all dfs and names in one df \n",
    "merged_df = df_total_search[0]\n",
    "for df in df_total_search[1:]: \n",
    "    merged_df = merged_df.union(df)\n",
    "\n",
    "merged_df.show(30)"
   ]
  },
  {
   "cell_type": "code",
   "execution_count": 55,
   "metadata": {},
   "outputs": [
    {
     "name": "stderr",
     "output_type": "stream",
     "text": [
      "                                                                                \r"
     ]
    }
   ],
   "source": [
    "#writing all dfs 3rd requistion into mysql db \n",
    "merged_df.write \\\n",
    "        .format(\"jdbc\") \\\n",
    "        .option(\"url\", \"jdbc:mysql://localhost:3306/Github_repos\") \\\n",
    "        .option(\"dbtable\", \"Search_terms_relevance_database\") \\\n",
    "        .option(\"user\", \"root\") \\\n",
    "        .option(\"password\", db_password) \\\n",
    "        .option(\"driver\", \"com.mysql.cj.jdbc.Driver\") \\\n",
    "        .mode(\"append\") \\\n",
    "        .save()\n"
   ]
  }
 ],
 "metadata": {
  "kernelspec": {
   "display_name": "usr",
   "language": "python",
   "name": "python3"
  },
  "language_info": {
   "codemirror_mode": {
    "name": "ipython",
    "version": 3
   },
   "file_extension": ".py",
   "mimetype": "text/x-python",
   "name": "python",
   "nbconvert_exporter": "python",
   "pygments_lexer": "ipython3",
   "version": "3.12.3"
  }
 },
 "nbformat": 4,
 "nbformat_minor": 2
}
